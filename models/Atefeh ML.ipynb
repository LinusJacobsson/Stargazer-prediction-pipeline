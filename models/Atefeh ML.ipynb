{
 "cells": [
  {
   "cell_type": "code",
   "execution_count": 45,
   "id": "2f4d4403",
   "metadata": {},
   "outputs": [],
   "source": [
    "import pandas as pd\n",
    "from sklearn.preprocessing import MinMaxScaler\n",
    "from sklearn.model_selection import train_test_split\n",
    "from sklearn.metrics import r2_score\n",
    "import torch\n",
    "import torch.nn as nn\n",
    "import numpy as np\n",
    "import matplotlib.pyplot as plt\n",
    "import torch.utils.data as data_utils\n",
    "import torch.nn.functional as F\n",
    "from tqdm import tqdm\n",
    "import seaborn as sns"
   ]
  },
  {
   "cell_type": "code",
   "execution_count": 39,
   "id": "e886639d",
   "metadata": {},
   "outputs": [],
   "source": [
    "def get_device():\n",
    "    if torch.cuda.is_available():\n",
    "        device = torch.device('cuda:0')\n",
    "    else:\n",
    "        device = torch.device('cpu') # don't have GPU \n",
    "    return device"
   ]
  },
  {
   "cell_type": "code",
   "execution_count": 4,
   "id": "ec5cf8c3",
   "metadata": {},
   "outputs": [],
   "source": [
    "df = pd.read_csv('../de2-final-project/data.csv')"
   ]
  },
  {
   "cell_type": "code",
   "execution_count": 6,
   "id": "c82ad617",
   "metadata": {},
   "outputs": [
    {
     "data": {
      "text/html": [
       "<div>\n",
       "<style scoped>\n",
       "    .dataframe tbody tr th:only-of-type {\n",
       "        vertical-align: middle;\n",
       "    }\n",
       "\n",
       "    .dataframe tbody tr th {\n",
       "        vertical-align: top;\n",
       "    }\n",
       "\n",
       "    .dataframe thead th {\n",
       "        text-align: right;\n",
       "    }\n",
       "</style>\n",
       "<table border=\"1\" class=\"dataframe\">\n",
       "  <thead>\n",
       "    <tr style=\"text-align: right;\">\n",
       "      <th></th>\n",
       "      <th>Unnamed: 0</th>\n",
       "      <th>Repository Name</th>\n",
       "      <th>Owner</th>\n",
       "      <th>Star Count</th>\n",
       "      <th>Fork Count</th>\n",
       "      <th>Created at</th>\n",
       "      <th>Updated at</th>\n",
       "      <th>Primary Language</th>\n",
       "      <th>PR Count</th>\n",
       "      <th>Issue Count</th>\n",
       "      <th>Watcher Count</th>\n",
       "      <th>Disk Usage</th>\n",
       "      <th>Is Fork</th>\n",
       "      <th>Is Archived</th>\n",
       "      <th>License Info</th>\n",
       "      <th>Topics</th>\n",
       "    </tr>\n",
       "  </thead>\n",
       "  <tbody>\n",
       "    <tr>\n",
       "      <th>0</th>\n",
       "      <td>0</td>\n",
       "      <td>free-programming-books</td>\n",
       "      <td>EbookFoundation</td>\n",
       "      <td>280023</td>\n",
       "      <td>55330</td>\n",
       "      <td>2013-10-11T06:50:37Z</td>\n",
       "      <td>2023-05-19T14:42:15Z</td>\n",
       "      <td>NaN</td>\n",
       "      <td>8311</td>\n",
       "      <td>930</td>\n",
       "      <td>9670</td>\n",
       "      <td>16794</td>\n",
       "      <td>False</td>\n",
       "      <td>False</td>\n",
       "      <td>Creative Commons Attribution 4.0 International</td>\n",
       "      <td>education, books, list, resource, hacktoberfest</td>\n",
       "    </tr>\n",
       "    <tr>\n",
       "      <th>1</th>\n",
       "      <td>1</td>\n",
       "      <td>996.ICU</td>\n",
       "      <td>996icu</td>\n",
       "      <td>265836</td>\n",
       "      <td>21416</td>\n",
       "      <td>2019-03-26T07:31:14Z</td>\n",
       "      <td>2023-05-19T14:48:24Z</td>\n",
       "      <td>NaN</td>\n",
       "      <td>1946</td>\n",
       "      <td>0</td>\n",
       "      <td>4258</td>\n",
       "      <td>188163</td>\n",
       "      <td>False</td>\n",
       "      <td>False</td>\n",
       "      <td>Other</td>\n",
       "      <td>NaN</td>\n",
       "    </tr>\n",
       "    <tr>\n",
       "      <th>2</th>\n",
       "      <td>2</td>\n",
       "      <td>javascript-algorithms</td>\n",
       "      <td>trekhleb</td>\n",
       "      <td>170043</td>\n",
       "      <td>27916</td>\n",
       "      <td>2018-03-24T07:47:04Z</td>\n",
       "      <td>2023-05-19T14:46:57Z</td>\n",
       "      <td>JavaScript</td>\n",
       "      <td>671</td>\n",
       "      <td>319</td>\n",
       "      <td>4385</td>\n",
       "      <td>13236</td>\n",
       "      <td>False</td>\n",
       "      <td>False</td>\n",
       "      <td>MIT License</td>\n",
       "      <td>javascript, algorithms, algorithm, javascript-...</td>\n",
       "    </tr>\n",
       "    <tr>\n",
       "      <th>3</th>\n",
       "      <td>3</td>\n",
       "      <td>CS-Notes</td>\n",
       "      <td>CyC2018</td>\n",
       "      <td>164256</td>\n",
       "      <td>50181</td>\n",
       "      <td>2018-02-13T14:56:24Z</td>\n",
       "      <td>2023-05-19T14:03:25Z</td>\n",
       "      <td>NaN</td>\n",
       "      <td>601</td>\n",
       "      <td>560</td>\n",
       "      <td>5382</td>\n",
       "      <td>116174</td>\n",
       "      <td>False</td>\n",
       "      <td>False</td>\n",
       "      <td>NaN</td>\n",
       "      <td>algorithm, leetcode, interview, computer-scien...</td>\n",
       "    </tr>\n",
       "    <tr>\n",
       "      <th>4</th>\n",
       "      <td>4</td>\n",
       "      <td>bootstrap</td>\n",
       "      <td>twbs</td>\n",
       "      <td>163674</td>\n",
       "      <td>78473</td>\n",
       "      <td>2011-07-29T21:19:00Z</td>\n",
       "      <td>2023-05-19T14:18:51Z</td>\n",
       "      <td>JavaScript</td>\n",
       "      <td>14584</td>\n",
       "      <td>21941</td>\n",
       "      <td>6816</td>\n",
       "      <td>230705</td>\n",
       "      <td>False</td>\n",
       "      <td>False</td>\n",
       "      <td>MIT License</td>\n",
       "      <td>css, bootstrap, javascript, html, scss</td>\n",
       "    </tr>\n",
       "  </tbody>\n",
       "</table>\n",
       "</div>"
      ],
      "text/plain": [
       "   Unnamed: 0         Repository Name            Owner  Star Count   \n",
       "0           0  free-programming-books  EbookFoundation      280023  \\\n",
       "1           1                 996.ICU           996icu      265836   \n",
       "2           2   javascript-algorithms         trekhleb      170043   \n",
       "3           3                CS-Notes          CyC2018      164256   \n",
       "4           4               bootstrap             twbs      163674   \n",
       "\n",
       "   Fork Count            Created at            Updated at Primary Language   \n",
       "0       55330  2013-10-11T06:50:37Z  2023-05-19T14:42:15Z              NaN  \\\n",
       "1       21416  2019-03-26T07:31:14Z  2023-05-19T14:48:24Z              NaN   \n",
       "2       27916  2018-03-24T07:47:04Z  2023-05-19T14:46:57Z       JavaScript   \n",
       "3       50181  2018-02-13T14:56:24Z  2023-05-19T14:03:25Z              NaN   \n",
       "4       78473  2011-07-29T21:19:00Z  2023-05-19T14:18:51Z       JavaScript   \n",
       "\n",
       "   PR Count  Issue Count  Watcher Count  Disk Usage  Is Fork  Is Archived   \n",
       "0      8311          930           9670       16794    False        False  \\\n",
       "1      1946            0           4258      188163    False        False   \n",
       "2       671          319           4385       13236    False        False   \n",
       "3       601          560           5382      116174    False        False   \n",
       "4     14584        21941           6816      230705    False        False   \n",
       "\n",
       "                                     License Info   \n",
       "0  Creative Commons Attribution 4.0 International  \\\n",
       "1                                           Other   \n",
       "2                                     MIT License   \n",
       "3                                             NaN   \n",
       "4                                     MIT License   \n",
       "\n",
       "                                              Topics  \n",
       "0    education, books, list, resource, hacktoberfest  \n",
       "1                                                NaN  \n",
       "2  javascript, algorithms, algorithm, javascript-...  \n",
       "3  algorithm, leetcode, interview, computer-scien...  \n",
       "4             css, bootstrap, javascript, html, scss  "
      ]
     },
     "execution_count": 6,
     "metadata": {},
     "output_type": "execute_result"
    }
   ],
   "source": [
    "df.head()"
   ]
  },
  {
   "cell_type": "code",
   "execution_count": 11,
   "id": "ed883f8d",
   "metadata": {},
   "outputs": [
    {
     "data": {
      "text/html": [
       "<div>\n",
       "<style scoped>\n",
       "    .dataframe tbody tr th:only-of-type {\n",
       "        vertical-align: middle;\n",
       "    }\n",
       "\n",
       "    .dataframe tbody tr th {\n",
       "        vertical-align: top;\n",
       "    }\n",
       "\n",
       "    .dataframe thead th {\n",
       "        text-align: right;\n",
       "    }\n",
       "</style>\n",
       "<table border=\"1\" class=\"dataframe\">\n",
       "  <thead>\n",
       "    <tr style=\"text-align: right;\">\n",
       "      <th></th>\n",
       "      <th>Unnamed: 0</th>\n",
       "      <th>Repository Name</th>\n",
       "      <th>Owner</th>\n",
       "      <th>Star Count</th>\n",
       "      <th>Fork Count</th>\n",
       "      <th>Created at</th>\n",
       "      <th>Updated at</th>\n",
       "      <th>Primary Language</th>\n",
       "      <th>PR Count</th>\n",
       "      <th>Issue Count</th>\n",
       "      <th>Watcher Count</th>\n",
       "      <th>Disk Usage</th>\n",
       "      <th>Is Fork</th>\n",
       "      <th>Is Archived</th>\n",
       "      <th>License Info</th>\n",
       "      <th>Topics</th>\n",
       "    </tr>\n",
       "  </thead>\n",
       "  <tbody>\n",
       "    <tr>\n",
       "      <th>0</th>\n",
       "      <td>0</td>\n",
       "      <td>free-programming-books</td>\n",
       "      <td>EbookFoundation</td>\n",
       "      <td>280023</td>\n",
       "      <td>55330</td>\n",
       "      <td>2013-10-11T06:50:37Z</td>\n",
       "      <td>2023-05-19T14:42:15Z</td>\n",
       "      <td>NaN</td>\n",
       "      <td>8311</td>\n",
       "      <td>930</td>\n",
       "      <td>9670</td>\n",
       "      <td>16794</td>\n",
       "      <td>0</td>\n",
       "      <td>0</td>\n",
       "      <td>Creative Commons Attribution 4.0 International</td>\n",
       "      <td>education, books, list, resource, hacktoberfest</td>\n",
       "    </tr>\n",
       "    <tr>\n",
       "      <th>1</th>\n",
       "      <td>1</td>\n",
       "      <td>996.ICU</td>\n",
       "      <td>996icu</td>\n",
       "      <td>265836</td>\n",
       "      <td>21416</td>\n",
       "      <td>2019-03-26T07:31:14Z</td>\n",
       "      <td>2023-05-19T14:48:24Z</td>\n",
       "      <td>NaN</td>\n",
       "      <td>1946</td>\n",
       "      <td>0</td>\n",
       "      <td>4258</td>\n",
       "      <td>188163</td>\n",
       "      <td>0</td>\n",
       "      <td>0</td>\n",
       "      <td>Other</td>\n",
       "      <td>NaN</td>\n",
       "    </tr>\n",
       "    <tr>\n",
       "      <th>2</th>\n",
       "      <td>2</td>\n",
       "      <td>javascript-algorithms</td>\n",
       "      <td>trekhleb</td>\n",
       "      <td>170043</td>\n",
       "      <td>27916</td>\n",
       "      <td>2018-03-24T07:47:04Z</td>\n",
       "      <td>2023-05-19T14:46:57Z</td>\n",
       "      <td>JavaScript</td>\n",
       "      <td>671</td>\n",
       "      <td>319</td>\n",
       "      <td>4385</td>\n",
       "      <td>13236</td>\n",
       "      <td>0</td>\n",
       "      <td>0</td>\n",
       "      <td>MIT License</td>\n",
       "      <td>javascript, algorithms, algorithm, javascript-...</td>\n",
       "    </tr>\n",
       "    <tr>\n",
       "      <th>3</th>\n",
       "      <td>3</td>\n",
       "      <td>CS-Notes</td>\n",
       "      <td>CyC2018</td>\n",
       "      <td>164256</td>\n",
       "      <td>50181</td>\n",
       "      <td>2018-02-13T14:56:24Z</td>\n",
       "      <td>2023-05-19T14:03:25Z</td>\n",
       "      <td>NaN</td>\n",
       "      <td>601</td>\n",
       "      <td>560</td>\n",
       "      <td>5382</td>\n",
       "      <td>116174</td>\n",
       "      <td>0</td>\n",
       "      <td>0</td>\n",
       "      <td>NaN</td>\n",
       "      <td>algorithm, leetcode, interview, computer-scien...</td>\n",
       "    </tr>\n",
       "    <tr>\n",
       "      <th>4</th>\n",
       "      <td>4</td>\n",
       "      <td>bootstrap</td>\n",
       "      <td>twbs</td>\n",
       "      <td>163674</td>\n",
       "      <td>78473</td>\n",
       "      <td>2011-07-29T21:19:00Z</td>\n",
       "      <td>2023-05-19T14:18:51Z</td>\n",
       "      <td>JavaScript</td>\n",
       "      <td>14584</td>\n",
       "      <td>21941</td>\n",
       "      <td>6816</td>\n",
       "      <td>230705</td>\n",
       "      <td>0</td>\n",
       "      <td>0</td>\n",
       "      <td>MIT License</td>\n",
       "      <td>css, bootstrap, javascript, html, scss</td>\n",
       "    </tr>\n",
       "  </tbody>\n",
       "</table>\n",
       "</div>"
      ],
      "text/plain": [
       "   Unnamed: 0         Repository Name            Owner  Star Count   \n",
       "0           0  free-programming-books  EbookFoundation      280023  \\\n",
       "1           1                 996.ICU           996icu      265836   \n",
       "2           2   javascript-algorithms         trekhleb      170043   \n",
       "3           3                CS-Notes          CyC2018      164256   \n",
       "4           4               bootstrap             twbs      163674   \n",
       "\n",
       "   Fork Count            Created at            Updated at Primary Language   \n",
       "0       55330  2013-10-11T06:50:37Z  2023-05-19T14:42:15Z              NaN  \\\n",
       "1       21416  2019-03-26T07:31:14Z  2023-05-19T14:48:24Z              NaN   \n",
       "2       27916  2018-03-24T07:47:04Z  2023-05-19T14:46:57Z       JavaScript   \n",
       "3       50181  2018-02-13T14:56:24Z  2023-05-19T14:03:25Z              NaN   \n",
       "4       78473  2011-07-29T21:19:00Z  2023-05-19T14:18:51Z       JavaScript   \n",
       "\n",
       "   PR Count  Issue Count  Watcher Count  Disk Usage  Is Fork  Is Archived   \n",
       "0      8311          930           9670       16794        0            0  \\\n",
       "1      1946            0           4258      188163        0            0   \n",
       "2       671          319           4385       13236        0            0   \n",
       "3       601          560           5382      116174        0            0   \n",
       "4     14584        21941           6816      230705        0            0   \n",
       "\n",
       "                                     License Info   \n",
       "0  Creative Commons Attribution 4.0 International  \\\n",
       "1                                           Other   \n",
       "2                                     MIT License   \n",
       "3                                             NaN   \n",
       "4                                     MIT License   \n",
       "\n",
       "                                              Topics  \n",
       "0    education, books, list, resource, hacktoberfest  \n",
       "1                                                NaN  \n",
       "2  javascript, algorithms, algorithm, javascript-...  \n",
       "3  algorithm, leetcode, interview, computer-scien...  \n",
       "4             css, bootstrap, javascript, html, scss  "
      ]
     },
     "execution_count": 11,
     "metadata": {},
     "output_type": "execute_result"
    }
   ],
   "source": [
    "df2 = df*1\n",
    "df2.head()"
   ]
  },
  {
   "cell_type": "code",
   "execution_count": 18,
   "id": "6ac77273",
   "metadata": {},
   "outputs": [],
   "source": [
    "columns_to_drop = ['Star Count','Owner', 'Repository Name', 'Owner', 'Created at', 'Updated at', 'License Info', 'Primary Language', 'Topics']\n",
    "X_train, X_test, y_train, y_test = train_test_split(df.drop(labels=columns_to_drop, axis=1), df['Star Count'], test_size=0.3, random_state=0)\n"
   ]
  },
  {
   "cell_type": "code",
   "execution_count": 48,
   "id": "f897c378",
   "metadata": {},
   "outputs": [
    {
     "data": {
      "text/plain": [
       "<Figure size 1000x800 with 0 Axes>"
      ]
     },
     "execution_count": 48,
     "metadata": {},
     "output_type": "execute_result"
    },
    {
     "data": {
      "image/png": "[encoded data removed]",
      "text/plain": [
       "<Figure size 640x480 with 2 Axes>"
      ]
     },
     "metadata": {},
     "output_type": "display_data"
    },
    {
     "data": {
      "text/plain": [
       "<Figure size 1000x800 with 0 Axes>"
      ]
     },
     "metadata": {},
     "output_type": "display_data"
    }
   ],
   "source": [
    "df2_numeric = df2.select_dtypes(include=[np.number])\n",
    "sns.heatmap(df2_numeric.corr(), annot=True, cmap=plt.cm.CMRmap_r)\n",
    "plt.figure(figsize=(10,8))"
   ]
  },
  {
   "cell_type": "code",
   "execution_count": 52,
   "id": "02d2d31d",
   "metadata": {},
   "outputs": [
    {
     "name": "stdout",
     "output_type": "stream",
     "text": [
      "Issue Count    PR Count         0.590167\n",
      "Fork Count     Star Count       0.680831\n",
      "               Watcher Count    0.710649\n",
      "Watcher Count  Star Count       0.773477\n",
      "Unnamed: 0     Is Fork               NaN\n",
      "dtype: float64\n"
     ]
    }
   ],
   "source": [
    "df2_numeric = df2.select_dtypes(include=[np.number])\n",
    "correlation_matrix =df2_numeric.corr()\n",
    "# Unstack the correlation matrix into a Series, then sort by absolute value\n",
    "sorted_correlations = correlation_matrix.unstack().sort_values(key=abs)\n",
    "\n",
    "# Drop duplicate pairs and self-correlations\n",
    "sorted_correlations = sorted_correlations[sorted_correlations != 1.0].drop_duplicates()\n",
    "\n",
    "# Print the pairs with the highest absolute correlation\n",
    "print(sorted_correlations.tail())\n"
   ]
  },
  {
   "cell_type": "code",
   "execution_count": 53,
   "id": "a170b3aa",
   "metadata": {},
   "outputs": [],
   "source": [
    "df_train = pd.concat([X_train, y_train], axis = 1).astype(np.float64)\n",
    "df_test = pd.concat([X_test, y_test], axis = 1).astype(np.float64)"
   ]
  },
  {
   "cell_type": "code",
   "execution_count": 20,
   "id": "d8a4bb05",
   "metadata": {},
   "outputs": [],
   "source": [
    "sc = MinMaxScaler()\n",
    "df_train[df_train.columns] = sc.fit_transform(df_train)\n",
    "df_train, df_val = train_test_split(df_train, test_size=0.2)\n",
    "df_test[df_test.columns] = sc.transform(df_test)"
   ]
  },
  {
   "cell_type": "code",
   "execution_count": 21,
   "id": "f578e11a",
   "metadata": {},
   "outputs": [],
   "source": [
    "X_train = df_train.drop(labels=['Star Count'], axis=1)\n",
    "y_train = df_train['Star Count']\n",
    "\n",
    "X_val = df_val.drop(labels=['Star Count'], axis=1)\n",
    "y_val = df_val['Star Count']\n",
    "\n",
    "X_test = df_test.drop(labels=['Star Count'], axis=1)\n",
    "y_test = df_test['Star Count']"
   ]
  },
  {
   "cell_type": "code",
   "execution_count": 22,
   "id": "93bca10b",
   "metadata": {},
   "outputs": [],
   "source": [
    "target = torch.tensor(y_train.values)\n",
    "features = torch.tensor(X_train.values)\n",
    "train = data_utils.TensorDataset(features, target)\n",
    "train_loader = data_utils.DataLoader(train, batch_size=32, shuffle=True)"
   ]
  },
  {
   "cell_type": "code",
   "execution_count": 23,
   "id": "16f1db97",
   "metadata": {},
   "outputs": [],
   "source": [
    "target = torch.tensor(y_val.values)\n",
    "features = torch.tensor(X_val.values)\n",
    "val = data_utils.TensorDataset(features, target)\n",
    "val_loader = data_utils.DataLoader(val, batch_size=32, shuffle=True)"
   ]
  },
  {
   "cell_type": "code",
   "execution_count": 24,
   "id": "306b5499",
   "metadata": {},
   "outputs": [],
   "source": [
    "target = torch.tensor(y_test.values)\n",
    "features = torch.tensor(X_test.values)\n",
    "test = data_utils.TensorDataset(features, target)\n",
    "test_loader = data_utils.DataLoader(test, batch_size=32, shuffle=True)"
   ]
  },
  {
   "cell_type": "code",
   "execution_count": 25,
   "id": "6798d48a",
   "metadata": {},
   "outputs": [],
   "source": [
    "TRAIN_EPOCHS = 2000\n",
    "Learning_rate = 0.001\n",
    "DEVICE = torch.device(\"cuda\" if torch.cuda.is_available() else \"cpu\")\n",
    "\n",
    "n_feature = X_train.shape[1]\n",
    "n_hidden1 = 16\n",
    "n_hidden2 = 8\n",
    "n_output = 1"
   ]
  },
  {
   "cell_type": "code",
   "execution_count": 26,
   "id": "04fe5451",
   "metadata": {},
   "outputs": [],
   "source": [
    "model = torch.nn.Sequential(\n",
    "    torch.nn.Linear(n_feature, n_hidden1),\n",
    "    torch.nn.ReLU(),\n",
    "    torch.nn.Linear(n_hidden1, n_hidden2),\n",
    "    torch.nn.ReLU(),    \n",
    "    torch.nn.Linear(n_hidden2, n_output),\n",
    ")"
   ]
  },
  {
   "cell_type": "code",
   "execution_count": 27,
   "id": "d4833dde",
   "metadata": {},
   "outputs": [
    {
     "data": {
      "text/plain": [
       "Sequential(\n",
       "  (0): Linear(in_features=8, out_features=16, bias=True)\n",
       "  (1): ReLU()\n",
       "  (2): Linear(in_features=16, out_features=8, bias=True)\n",
       "  (3): ReLU()\n",
       "  (4): Linear(in_features=8, out_features=1, bias=True)\n",
       ")"
      ]
     },
     "execution_count": 27,
     "metadata": {},
     "output_type": "execute_result"
    }
   ],
   "source": [
    "optimizer = torch.optim.Adam(model.parameters(), lr=Learning_rate)\n",
    "criterion = torch.nn.MSELoss()  \n",
    "model.train()"
   ]
  },
  {
   "cell_type": "code",
   "execution_count": 28,
   "id": "8d2270b5",
   "metadata": {},
   "outputs": [
    {
     "name": "stderr",
     "output_type": "stream",
     "text": [
      "100%|███████████████████████████████████████████████████████████████████████████████| 2000/2000 [01:41<00:00, 19.78it/s]\n"
     ]
    }
   ],
   "source": [
    "log_val = []\n",
    "log_train = []\n",
    "for epoch in tqdm(range(TRAIN_EPOCHS)):\n",
    "    running_loss = 0\n",
    "    for data, labels in train_loader:\n",
    "        #if torch.cuda.is_available():\n",
    "        #    data, labels = data.cuda(), labels.cuda()\n",
    "        optimizer.zero_grad()\n",
    "        target  = model(data)\n",
    "        loss = criterion(target, labels.view(-1,1))\n",
    "        loss.backward()\n",
    "        optimizer.step()\n",
    "\n",
    "        running_loss += loss.item()\n",
    "    log_train.append(running_loss / len(train_loader))\n",
    "    \n",
    "    \n",
    "    val_loss = 0.0\n",
    "    model.eval()     # Optional when not using Model Specific layer\n",
    "    for data, labels in val_loader:\n",
    "        #if torch.cuda.is_available():\n",
    "        #    data, labels = data.cuda(), labels.cuda()\n",
    "        target = model(data)\n",
    "        loss = criterion(target,labels.view(-1,1))\n",
    "        val_loss += loss.item()\n",
    "    log_val.append(val_loss / len(val_loader))"
   ]
  },
  {
   "cell_type": "code",
   "execution_count": 29,
   "id": "206f56a3",
   "metadata": {},
   "outputs": [
    {
     "name": "stdout",
     "output_type": "stream",
     "text": [
      "0.0017049414207576774\n"
     ]
    }
   ],
   "source": [
    "test_loss = 0.0\n",
    "for data, labels in test_loader:\n",
    "    target = model(data)\n",
    "    loss = criterion(target,labels.view(-1,1))\n",
    "    test_loss += loss.item()\n",
    "print(test_loss / len(test_loader))"
   ]
  },
  {
   "cell_type": "code",
   "execution_count": 40,
   "id": "91f1d2b7",
   "metadata": {},
   "outputs": [],
   "source": [
    "# Convert PyTorch tensors to numpy arrays for computation\n",
    "target_numpy = target.detach().numpy()\n",
    "labels_numpy = labels.view(-1,1).detach().numpy()\n",
    "\n",
    "r_squared = r2_score(labels_numpy, target_numpy)\n"
   ]
  },
  {
   "cell_type": "code",
   "execution_count": 41,
   "id": "d9bfd44f",
   "metadata": {},
   "outputs": [
    {
     "data": {
      "text/plain": [
       "0.7318845681861614"
      ]
     },
     "execution_count": 41,
     "metadata": {},
     "output_type": "execute_result"
    }
   ],
   "source": [
    "r_squared "
   ]
  },
  {
   "cell_type": "code",
   "execution_count": 30,
   "id": "afba564c",
   "metadata": {},
   "outputs": [],
   "source": [
    "df_target = pd.concat([pd.DataFrame(data.detach().numpy()), pd.DataFrame(target.detach().numpy())], axis = 1)\n",
    "df_target.columns = df_test.columns\n",
    "df_target = pd.DataFrame(sc.inverse_transform(df_target), columns = df_test.columns)\n",
    "\n",
    "df_label = pd.concat([pd.DataFrame(data.detach().numpy()), pd.DataFrame(labels.detach().numpy())], axis = 1)\n",
    "df_label.columns = df_test.columns\n",
    "df_label = pd.DataFrame(sc.inverse_transform(df_label), columns = df_test.columns)"
   ]
  },
  {
   "cell_type": "code",
   "execution_count": 37,
   "id": "b35617bb",
   "metadata": {},
   "outputs": [
    {
     "data": {
      "text/html": [
       "<div>\n",
       "<style scoped>\n",
       "    .dataframe tbody tr th:only-of-type {\n",
       "        vertical-align: middle;\n",
       "    }\n",
       "\n",
       "    .dataframe tbody tr th {\n",
       "        vertical-align: top;\n",
       "    }\n",
       "\n",
       "    .dataframe thead th {\n",
       "        text-align: right;\n",
       "    }\n",
       "</style>\n",
       "<table border=\"1\" class=\"dataframe\">\n",
       "  <thead>\n",
       "    <tr style=\"text-align: right;\">\n",
       "      <th></th>\n",
       "      <th>label</th>\n",
       "      <th>prediction</th>\n",
       "      <th>diff</th>\n",
       "    </tr>\n",
       "  </thead>\n",
       "  <tbody>\n",
       "    <tr>\n",
       "      <th>0</th>\n",
       "      <td>14589</td>\n",
       "      <td>15553</td>\n",
       "      <td>-6</td>\n",
       "    </tr>\n",
       "    <tr>\n",
       "      <th>1</th>\n",
       "      <td>21668</td>\n",
       "      <td>16373</td>\n",
       "      <td>24</td>\n",
       "    </tr>\n",
       "    <tr>\n",
       "      <th>2</th>\n",
       "      <td>28999</td>\n",
       "      <td>26741</td>\n",
       "      <td>7</td>\n",
       "    </tr>\n",
       "    <tr>\n",
       "      <th>3</th>\n",
       "      <td>22451</td>\n",
       "      <td>22286</td>\n",
       "      <td>0</td>\n",
       "    </tr>\n",
       "    <tr>\n",
       "      <th>4</th>\n",
       "      <td>70750</td>\n",
       "      <td>97226</td>\n",
       "      <td>-37</td>\n",
       "    </tr>\n",
       "    <tr>\n",
       "      <th>5</th>\n",
       "      <td>20401</td>\n",
       "      <td>18573</td>\n",
       "      <td>8</td>\n",
       "    </tr>\n",
       "    <tr>\n",
       "      <th>6</th>\n",
       "      <td>15532</td>\n",
       "      <td>16785</td>\n",
       "      <td>-8</td>\n",
       "    </tr>\n",
       "    <tr>\n",
       "      <th>7</th>\n",
       "      <td>36188</td>\n",
       "      <td>33036</td>\n",
       "      <td>8</td>\n",
       "    </tr>\n",
       "    <tr>\n",
       "      <th>8</th>\n",
       "      <td>12769</td>\n",
       "      <td>19926</td>\n",
       "      <td>-56</td>\n",
       "    </tr>\n",
       "    <tr>\n",
       "      <th>9</th>\n",
       "      <td>15631</td>\n",
       "      <td>14209</td>\n",
       "      <td>9</td>\n",
       "    </tr>\n",
       "    <tr>\n",
       "      <th>10</th>\n",
       "      <td>66934</td>\n",
       "      <td>47656</td>\n",
       "      <td>28</td>\n",
       "    </tr>\n",
       "    <tr>\n",
       "      <th>11</th>\n",
       "      <td>16544</td>\n",
       "      <td>17845</td>\n",
       "      <td>-7</td>\n",
       "    </tr>\n",
       "  </tbody>\n",
       "</table>\n",
       "</div>"
      ],
      "text/plain": [
       "    label  prediction  diff\n",
       "0   14589       15553    -6\n",
       "1   21668       16373    24\n",
       "2   28999       26741     7\n",
       "3   22451       22286     0\n",
       "4   70750       97226   -37\n",
       "5   20401       18573     8\n",
       "6   15532       16785    -8\n",
       "7   36188       33036     8\n",
       "8   12769       19926   -56\n",
       "9   15631       14209     9\n",
       "10  66934       47656    28\n",
       "11  16544       17845    -7"
      ]
     },
     "execution_count": 37,
     "metadata": {},
     "output_type": "execute_result"
    }
   ],
   "source": [
    "ddf = pd.concat([df_label['Star Count'], df_target['Star Count']], axis = 1)\n",
    "ddf.columns = ['label', 'prediction']\n",
    "ddf['diff'] = (ddf['label'] - ddf['prediction'])/ddf['label']*100\n",
    "ddf = ddf.astype(np.int64)\n",
    "ddf.head(20)"
   ]
  },
  {
   "cell_type": "code",
   "execution_count": null,
   "id": "d79829e3",
   "metadata": {},
   "outputs": [],
   "source": []
  },
  {
   "cell_type": "code",
   "execution_count": null,
   "id": "749524d7",
   "metadata": {},
   "outputs": [],
   "source": []
  }
 ],
 "metadata": {
  "kernelspec": {
   "display_name": "Python 3 (ipykernel)",
   "language": "python",
   "name": "python3"
  },
  "language_info": {
   "codemirror_mode": {
    "name": "ipython",
    "version": 3
   },
   "file_extension": ".py",
   "mimetype": "text/x-python",
   "name": "python",
   "nbconvert_exporter": "python",
   "pygments_lexer": "ipython3",
   "version": "3.10.6"
  }
 },
 "nbformat": 4,
 "nbformat_minor": 5
}
